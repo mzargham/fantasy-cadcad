{
 "cells": [
  {
   "cell_type": "code",
   "execution_count": 1,
   "metadata": {},
   "outputs": [],
   "source": [
    "from spaces import *\n",
    "import numpy as np\n",
    "from model.player import Player, distance"
   ]
  },
  {
   "cell_type": "code",
   "execution_count": 2,
   "metadata": {},
   "outputs": [],
   "source": [
    "statespace = Space(name=\"statespace\")"
   ]
  },
  {
   "cell_type": "code",
   "execution_count": 3,
   "metadata": {},
   "outputs": [],
   "source": [
    "statespace.append_dimension(\"Alice\", Player)\n",
    "statespace.append_dimension(\"Bob\", Player)"
   ]
  },
  {
   "cell_type": "code",
   "execution_count": 4,
   "metadata": {},
   "outputs": [
    {
     "data": {
      "text/plain": [
       "['Alice', 'Bob']"
      ]
     },
     "execution_count": 4,
     "metadata": {},
     "output_type": "execute_result"
    }
   ],
   "source": [
    "statespace.dimensions"
   ]
  },
  {
   "cell_type": "code",
   "execution_count": 5,
   "metadata": {},
   "outputs": [],
   "source": [
    "state = statespace.point({\"Alice\":(0,0),\"Bob\":(1,1)})"
   ]
  },
  {
   "cell_type": "code",
   "execution_count": 6,
   "metadata": {},
   "outputs": [
    {
     "data": {
      "text/plain": [
       "(0, 0, 1, 1)"
      ]
     },
     "execution_count": 6,
     "metadata": {},
     "output_type": "execute_result"
    }
   ],
   "source": [
    "state.Alice.x, state.Alice.y, state.Bob.x, state.Bob.y"
   ]
  },
  {
   "cell_type": "code",
   "execution_count": 7,
   "metadata": {},
   "outputs": [],
   "source": [
    "traj = Trajectory(state)"
   ]
  },
  {
   "cell_type": "code",
   "execution_count": 8,
   "metadata": {},
   "outputs": [
    {
     "data": {
      "text/plain": [
       "'statespace'"
      ]
     },
     "execution_count": 8,
     "metadata": {},
     "output_type": "execute_result"
    }
   ],
   "source": [
    "traj.space.name"
   ]
  },
  {
   "cell_type": "code",
   "execution_count": 9,
   "metadata": {},
   "outputs": [
    {
     "name": "stdout",
     "output_type": "stream",
     "text": [
      "(0, 0)\n",
      "(1, 1)\n"
     ]
    }
   ],
   "source": [
    "for p in traj.points:\n",
    "    print((p.Alice.x,p.Alice.y))\n",
    "    print((p.Bob.x,p.Bob.y))"
   ]
  },
  {
   "cell_type": "code",
   "execution_count": 10,
   "metadata": {},
   "outputs": [],
   "source": [
    "def tag_dynamics(point):\n",
    "    \n",
    "    point.Alice.chase(point.Bob)\n",
    "    point.Bob.evade(point.Alice)\n",
    "\n",
    "    return point\n"
   ]
  },
  {
   "cell_type": "code",
   "execution_count": 11,
   "metadata": {},
   "outputs": [],
   "source": [
    "dyn = Dynamics(statespace, step=tag_dynamics)\n",
    "traj.set_dynamics(dyn)"
   ]
  },
  {
   "cell_type": "code",
   "execution_count": 12,
   "metadata": {},
   "outputs": [
    {
     "data": {
      "text/plain": [
       "<function __main__.tag_dynamics(point)>"
      ]
     },
     "execution_count": 12,
     "metadata": {},
     "output_type": "execute_result"
    }
   ],
   "source": [
    "traj.dynamics.step"
   ]
  },
  {
   "cell_type": "code",
   "execution_count": 13,
   "metadata": {},
   "outputs": [
    {
     "data": {
      "text/plain": [
       "[<spaces.Point at 0x7ffbb814fbe0>]"
      ]
     },
     "execution_count": 13,
     "metadata": {},
     "output_type": "execute_result"
    }
   ],
   "source": [
    "traj.points"
   ]
  },
  {
   "cell_type": "code",
   "execution_count": 14,
   "metadata": {},
   "outputs": [],
   "source": [
    "traj.apply_dynamics(10)"
   ]
  },
  {
   "cell_type": "code",
   "execution_count": 15,
   "metadata": {},
   "outputs": [
    {
     "data": {
      "text/plain": [
       "[<spaces.Point at 0x7ffbb814fbe0>,\n",
       " <spaces.Point at 0x7ffbe888c160>,\n",
       " <spaces.Point at 0x7ffbe888c310>,\n",
       " <spaces.Point at 0x7ffbe888c760>,\n",
       " <spaces.Point at 0x7ffb9870b940>,\n",
       " <spaces.Point at 0x7ffb9870bfa0>,\n",
       " <spaces.Point at 0x7ffbe888c8b0>,\n",
       " <spaces.Point at 0x7ffbe888c9a0>,\n",
       " <spaces.Point at 0x7ffbe888c2b0>,\n",
       " <spaces.Point at 0x7ffbe888cbb0>,\n",
       " <spaces.Point at 0x7ffbe888cd90>]"
      ]
     },
     "execution_count": 15,
     "metadata": {},
     "output_type": "execute_result"
    }
   ],
   "source": [
    "traj.points"
   ]
  },
  {
   "cell_type": "code",
   "execution_count": 16,
   "metadata": {},
   "outputs": [],
   "source": [
    "import matplotlib.pyplot as plt"
   ]
  },
  {
   "cell_type": "code",
   "execution_count": 17,
   "metadata": {},
   "outputs": [],
   "source": [
    "t = range(traj.length)\n",
    "alice_pos = [(p.Alice.x,p.Alice.y) for p in traj.points ]\n",
    "bob_pos = [(p.Bob.x,p.Bob.y) for p in traj.points ]"
   ]
  },
  {
   "cell_type": "code",
   "execution_count": 18,
   "metadata": {},
   "outputs": [
    {
     "data": {
      "text/plain": [
       "<matplotlib.legend.Legend at 0x7ffb98e47f10>"
      ]
     },
     "execution_count": 18,
     "metadata": {},
     "output_type": "execute_result"
    },
    {
     "data": {
      "image/png": "[encoded data removed]",
      "text/plain": [
       "<Figure size 432x288 with 1 Axes>"
      ]
     },
     "metadata": {
      "needs_background": "light"
     },
     "output_type": "display_data"
    }
   ],
   "source": [
    "plt.plot(t,alice_pos, t, bob_pos)\n",
    "plt.xlabel(\"time\")\n",
    "plt.ylabel(\"position\")\n",
    "plt.legend([\"Alice_x\", \"Alice_y\",\"Bob_x\",\"Bob_y\"])"
   ]
  },
  {
   "cell_type": "code",
   "execution_count": 19,
   "metadata": {},
   "outputs": [],
   "source": [
    "state = traj.points[-1]"
   ]
  },
  {
   "cell_type": "code",
   "execution_count": 20,
   "metadata": {},
   "outputs": [
    {
     "data": {
      "text/plain": [
       "(6.185334973617222, 6.03458975303575, 7.500147906278893, 7.1629139355383735)"
      ]
     },
     "execution_count": 20,
     "metadata": {},
     "output_type": "execute_result"
    }
   ],
   "source": [
    "state.Alice.x, state.Alice.y, state.Bob.x, state.Bob.y"
   ]
  },
  {
   "cell_type": "code",
   "execution_count": 21,
   "metadata": {},
   "outputs": [
    {
     "data": {
      "text/plain": [
       "[]"
      ]
     },
     "execution_count": 21,
     "metadata": {},
     "output_type": "execute_result"
    }
   ],
   "source": [
    "statespace.metrics"
   ]
  },
  {
   "cell_type": "code",
   "execution_count": 22,
   "metadata": {},
   "outputs": [],
   "source": [
    "dist = Metric(lambda point: distance(point.Alice, point.Bob), description=\"2d Euclidean Distance\")\n",
    "statespace.append_metric(\"distance\", dist)"
   ]
  },
  {
   "cell_type": "code",
   "execution_count": 23,
   "metadata": {},
   "outputs": [
    {
     "data": {
      "text/plain": [
       "['distance']"
      ]
     },
     "execution_count": 23,
     "metadata": {},
     "output_type": "execute_result"
    }
   ],
   "source": [
    "statespace.metrics"
   ]
  },
  {
   "cell_type": "code",
   "execution_count": 24,
   "metadata": {},
   "outputs": [
    {
     "data": {
      "text/plain": [
       "1.7325843438963076"
      ]
     },
     "execution_count": 24,
     "metadata": {},
     "output_type": "execute_result"
    }
   ],
   "source": [
    "statespace.distance.eval(state)"
   ]
  },
  {
   "cell_type": "code",
   "execution_count": 25,
   "metadata": {},
   "outputs": [],
   "source": [
    "distances = [ traj.space.distance.eval(p) for p in traj.points ]"
   ]
  },
  {
   "cell_type": "code",
   "execution_count": 26,
   "metadata": {},
   "outputs": [
    {
     "data": {
      "text/plain": [
       "Text(0.5, 1.0, 'Distance Between Alice and Bob')"
      ]
     },
     "execution_count": 26,
     "metadata": {},
     "output_type": "execute_result"
    },
    {
     "data": {
      "image/png": "[encoded data removed]",
      "text/plain": [
       "<Figure size 432x288 with 1 Axes>"
      ]
     },
     "metadata": {
      "needs_background": "light"
     },
     "output_type": "display_data"
    }
   ],
   "source": [
    "plt.plot(t, distances)\n",
    "plt.xlabel(\"time\")\n",
    "plt.ylabel(\"distance\")\n",
    "plt.title(\"Distance Between Alice and Bob\")"
   ]
  },
  {
   "cell_type": "code",
   "execution_count": 27,
   "metadata": {},
   "outputs": [],
   "source": [
    "def unit_vector(point):\n",
    "    \n",
    "    s = point.space\n",
    "    d = point.space.distance.eval(point)\n",
    "\n",
    "    if d < .000001:\n",
    "        return (0,0)\n",
    "    else:\n",
    "        dx = point.Bob.x-point.Alice.x\n",
    "        dy = point.Bob.y-point.Alice.y\n",
    "    \n",
    "        return [dx/d,dy/d]\n",
    "\n",
    "\n",
    "dire = Metric(unit_vector, description=\"Unit Vector Alice to Bob\")"
   ]
  },
  {
   "cell_type": "code",
   "execution_count": 28,
   "metadata": {},
   "outputs": [],
   "source": [
    "statespace.append_metric(\"direction\", dire)"
   ]
  },
  {
   "cell_type": "code",
   "execution_count": 29,
   "metadata": {},
   "outputs": [],
   "source": [
    "directions = np.array([ traj.space.direction.eval(p) for p in traj.points ])"
   ]
  },
  {
   "cell_type": "code",
   "execution_count": 30,
   "metadata": {},
   "outputs": [
    {
     "data": {
      "text/plain": [
       "array([[0.70710678, 0.70710678],\n",
       "       [0.74321168, 0.66905635],\n",
       "       [0.77443725, 0.63265073],\n",
       "       [0.68355705, 0.72989709],\n",
       "       [0.02791184, 0.99961039],\n",
       "       [0.28480028, 0.95858688],\n",
       "       [0.81222403, 0.58334564],\n",
       "       [0.91384178, 0.40607043],\n",
       "       [0.90712735, 0.42085623],\n",
       "       [0.83956245, 0.54326318],\n",
       "       [0.75887384, 0.65123766]])"
      ]
     },
     "execution_count": 30,
     "metadata": {},
     "output_type": "execute_result"
    }
   ],
   "source": [
    "directions"
   ]
  },
  {
   "cell_type": "code",
   "execution_count": 31,
   "metadata": {},
   "outputs": [
    {
     "data": {
      "text/plain": [
       "<matplotlib.legend.Legend at 0x7ffb68096be0>"
      ]
     },
     "execution_count": 31,
     "metadata": {},
     "output_type": "execute_result"
    },
    {
     "data": {
      "image/png": "[encoded data removed]",
      "text/plain": [
       "<Figure size 432x288 with 1 Axes>"
      ]
     },
     "metadata": {
      "needs_background": "light"
     },
     "output_type": "display_data"
    }
   ],
   "source": [
    "plt.plot(directions)\n",
    "plt.xlabel(\"time\")\n",
    "plt.ylabel(\"direction\")\n",
    "plt.title(\"Direction From Alice to Bob\")\n",
    "plt.legend([\"dx\",\"dy\"])"
   ]
  },
  {
   "cell_type": "code",
   "execution_count": 32,
   "metadata": {},
   "outputs": [
    {
     "data": {
      "text/plain": [
       "Text(0.5, 1.0, 'Direction From Alice to Bob')"
      ]
     },
     "execution_count": 32,
     "metadata": {},
     "output_type": "execute_result"
    },
    {
     "data": {
      "image/png": "[encoded data removed]",
      "text/plain": [
       "<Figure size 432x288 with 1 Axes>"
      ]
     },
     "metadata": {
      "needs_background": "light"
     },
     "output_type": "display_data"
    }
   ],
   "source": [
    "xc=[]\n",
    "yc=[]\n",
    "\n",
    "for theta in np.arange(0,2*np.pi,.01):\n",
    "    xc.append(np.cos(theta))\n",
    "    yc.append(np.sin(theta))\n",
    "\n",
    "plt.plot(xc,yc)\n",
    "plt.plot(directions.T[0], directions.T[1], 'o')\n",
    "plt.xlabel(\"dx\")\n",
    "plt.ylabel(\"dy\")\n",
    "plt.title(\"Direction From Alice to Bob\")"
   ]
  },
  {
   "cell_type": "code",
   "execution_count": null,
   "metadata": {},
   "outputs": [],
   "source": []
  }
 ],
 "metadata": {
  "interpreter": {
   "hash": "7b1772db3cddc08457cc23b229bff4f5b14d39d24a324a3946d9a956e14623d6"
  },
  "kernelspec": {
   "display_name": "Python 3.8.5 64-bit ('base': conda)",
   "language": "python",
   "name": "python3"
  },
  "language_info": {
   "codemirror_mode": {
    "name": "ipython",
    "version": 3
   },
   "file_extension": ".py",
   "mimetype": "text/x-python",
   "name": "python",
   "nbconvert_exporter": "python",
   "pygments_lexer": "ipython3",
   "version": "3.8.5"
  },
  "orig_nbformat": 4
 },
 "nbformat": 4,
 "nbformat_minor": 2
}
