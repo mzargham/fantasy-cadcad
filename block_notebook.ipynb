{
 "cells": [
  {
   "cell_type": "code",
   "execution_count": 1,
   "metadata": {},
   "outputs": [],
   "source": [
    "from spaces import *"
   ]
  },
  {
   "cell_type": "code",
   "execution_count": 2,
   "metadata": {},
   "outputs": [],
   "source": [
    "import numpy as np"
   ]
  },
  {
   "cell_type": "code",
   "execution_count": 3,
   "metadata": {},
   "outputs": [],
   "source": [
    "space1 = Space(name = \"integer cartesian coordinates\")"
   ]
  },
  {
   "cell_type": "code",
   "execution_count": 4,
   "metadata": {},
   "outputs": [],
   "source": [
    "space1.append_dimension(\"x\", int)\n",
    "space1.append_dimension(\"y\", int)"
   ]
  },
  {
   "cell_type": "code",
   "execution_count": 5,
   "metadata": {},
   "outputs": [],
   "source": [
    "space2 = Space(name = \"floating point polar coordinates\")"
   ]
  },
  {
   "cell_type": "code",
   "execution_count": 6,
   "metadata": {},
   "outputs": [],
   "source": [
    "space2.append_dimension(\"r\", float)\n",
    "space2.append_dimension(\"theta\", float)"
   ]
  },
  {
   "cell_type": "code",
   "execution_count": 7,
   "metadata": {},
   "outputs": [],
   "source": [
    "def to_polar(point):\n",
    "    x = point.x\n",
    "    y = point.y\n",
    "\n",
    "    r = np.sqrt(x**2+y**2)\n",
    "    if x==0:\n",
    "        theta = np.sign(y)*np.pi/2\n",
    "    else:\n",
    "        theta = np.arctan(y/x)\n",
    "\n",
    "    return space2.point({'r':r,'theta':theta})\n",
    "\n",
    "def to_cart(point):\n",
    "    r = point.r\n",
    "    theta = point.theta\n",
    "\n",
    "    x = int(r*np.cos(theta))\n",
    "    y = int(r*np.sin(theta))\n",
    "\n",
    "    return space1.point({'x':x,'y':y})"
   ]
  },
  {
   "cell_type": "code",
   "execution_count": 8,
   "metadata": {},
   "outputs": [],
   "source": [
    "cart2polar = Block(space1,space2, to_polar)\n",
    "polar2cart = Block(space2,space1, to_cart)"
   ]
  },
  {
   "cell_type": "code",
   "execution_count": 9,
   "metadata": {},
   "outputs": [
    {
     "data": {
      "text/plain": [
       "'integer cartesian coordinates'"
      ]
     },
     "execution_count": 9,
     "metadata": {},
     "output_type": "execute_result"
    }
   ],
   "source": [
    "cart2polar.domain.name"
   ]
  },
  {
   "cell_type": "code",
   "execution_count": 10,
   "metadata": {},
   "outputs": [
    {
     "data": {
      "text/plain": [
       "'floating point polar coordinates'"
      ]
     },
     "execution_count": 10,
     "metadata": {},
     "output_type": "execute_result"
    }
   ],
   "source": [
    "cart2polar.codomain.name"
   ]
  },
  {
   "cell_type": "code",
   "execution_count": 11,
   "metadata": {},
   "outputs": [],
   "source": [
    "input = space1.point({'x':25,'y':33})"
   ]
  },
  {
   "cell_type": "code",
   "execution_count": 12,
   "metadata": {},
   "outputs": [
    {
     "data": {
      "text/plain": [
       "(0.922464337707636, 41.400483088968905)"
      ]
     },
     "execution_count": 12,
     "metadata": {},
     "output_type": "execute_result"
    }
   ],
   "source": [
    "interim = cart2polar.map(input)\n",
    "interim.theta, interim.r"
   ]
  },
  {
   "cell_type": "code",
   "execution_count": 13,
   "metadata": {},
   "outputs": [
    {
     "data": {
      "text/plain": [
       "(25, 33)"
      ]
     },
     "execution_count": 13,
     "metadata": {},
     "output_type": "execute_result"
    }
   ],
   "source": [
    "output = polar2cart.map(interim)\n",
    "output.x, output.y"
   ]
  },
  {
   "cell_type": "code",
   "execution_count": 14,
   "metadata": {},
   "outputs": [],
   "source": [
    "polar2polar = cart2polar.compose(polar2cart)\n",
    "cart2cart = polar2cart.compose(cart2polar)"
   ]
  },
  {
   "cell_type": "code",
   "execution_count": 15,
   "metadata": {},
   "outputs": [
    {
     "data": {
      "text/plain": [
       "'integer cartesian coordinates'"
      ]
     },
     "execution_count": 15,
     "metadata": {},
     "output_type": "execute_result"
    }
   ],
   "source": [
    "cart2cart.domain.name"
   ]
  },
  {
   "cell_type": "code",
   "execution_count": 16,
   "metadata": {},
   "outputs": [
    {
     "data": {
      "text/plain": [
       "'integer cartesian coordinates'"
      ]
     },
     "execution_count": 16,
     "metadata": {},
     "output_type": "execute_result"
    }
   ],
   "source": [
    "cart2cart.codomain.name"
   ]
  },
  {
   "cell_type": "code",
   "execution_count": 17,
   "metadata": {},
   "outputs": [
    {
     "data": {
      "text/plain": [
       "\"made by composition; collapsed space is called 'floating point polar coordinates'\""
      ]
     },
     "execution_count": 17,
     "metadata": {},
     "output_type": "execute_result"
    }
   ],
   "source": [
    "cart2cart.description"
   ]
  },
  {
   "cell_type": "code",
   "execution_count": 18,
   "metadata": {},
   "outputs": [
    {
     "data": {
      "text/plain": [
       "(25, 33)"
      ]
     },
     "execution_count": 18,
     "metadata": {},
     "output_type": "execute_result"
    }
   ],
   "source": [
    "direct = cart2cart.map(input)\n",
    "direct.x, direct.y"
   ]
  },
  {
   "cell_type": "code",
   "execution_count": 19,
   "metadata": {},
   "outputs": [],
   "source": [
    "def random_spin(point):\n",
    "    p = point.copy()\n",
    "    delta = np.random.rand()*np.pi/2-np.pi/4\n",
    "    p.theta +=delta\n",
    "    return p"
   ]
  },
  {
   "cell_type": "code",
   "execution_count": 20,
   "metadata": {},
   "outputs": [],
   "source": [
    "spin = Block(space2, space2, random_spin)"
   ]
  },
  {
   "cell_type": "code",
   "execution_count": 21,
   "metadata": {},
   "outputs": [],
   "source": [
    "blocks = [cart2polar, spin, polar2cart]"
   ]
  },
  {
   "cell_type": "code",
   "execution_count": 22,
   "metadata": {},
   "outputs": [
    {
     "name": "stdout",
     "output_type": "stream",
     "text": [
      "<spaces.Space object at 0x7fccf0190eb0>\n",
      "to\n",
      "<spaces.Space object at 0x7fcd00235940>\n",
      "<spaces.Space object at 0x7fcd00235940>\n",
      "to\n",
      "<spaces.Space object at 0x7fcd00235940>\n",
      "<spaces.Space object at 0x7fcd00235940>\n",
      "to\n",
      "<spaces.Space object at 0x7fccf0190eb0>\n"
     ]
    }
   ],
   "source": [
    "for b in blocks:\n",
    "    print(b.domain)\n",
    "    print('to')\n",
    "    print(b.codomain)"
   ]
  },
  {
   "cell_type": "code",
   "execution_count": 23,
   "metadata": {},
   "outputs": [
    {
     "data": {
      "text/plain": [
       "[<spaces.Block at 0x7fcd304aba60>,\n",
       " <spaces.Block at 0x7fcd304abbb0>,\n",
       " <spaces.Block at 0x7fcd304ab610>]"
      ]
     },
     "execution_count": 23,
     "metadata": {},
     "output_type": "execute_result"
    }
   ],
   "source": [
    "blocks"
   ]
  },
  {
   "cell_type": "code",
   "execution_count": 24,
   "metadata": {},
   "outputs": [],
   "source": [
    "spinner = chain(blocks)"
   ]
  },
  {
   "cell_type": "code",
   "execution_count": 25,
   "metadata": {},
   "outputs": [
    {
     "data": {
      "text/plain": [
       "'integer cartesian coordinates'"
      ]
     },
     "execution_count": 25,
     "metadata": {},
     "output_type": "execute_result"
    }
   ],
   "source": [
    "spinner.codomain.name"
   ]
  },
  {
   "cell_type": "code",
   "execution_count": 26,
   "metadata": {},
   "outputs": [
    {
     "data": {
      "text/plain": [
       "'integer cartesian coordinates'"
      ]
     },
     "execution_count": 26,
     "metadata": {},
     "output_type": "execute_result"
    }
   ],
   "source": [
    "spinner.domain.name"
   ]
  },
  {
   "cell_type": "code",
   "execution_count": 27,
   "metadata": {},
   "outputs": [
    {
     "data": {
      "text/plain": [
       "'chain compose of [<spaces.Block object at 0x7fcd304aba60>, <spaces.Block object at 0x7fcd304abbb0>, <spaces.Block object at 0x7fcd304ab610>]'"
      ]
     },
     "execution_count": 27,
     "metadata": {},
     "output_type": "execute_result"
    }
   ],
   "source": [
    "spinner.description"
   ]
  },
  {
   "cell_type": "code",
   "execution_count": 28,
   "metadata": {},
   "outputs": [],
   "source": [
    "xy_in = space1.point({'x':30,'y':-30})"
   ]
  },
  {
   "cell_type": "code",
   "execution_count": 29,
   "metadata": {},
   "outputs": [],
   "source": [
    "xy_out = spinner.map(xy_in)"
   ]
  },
  {
   "cell_type": "code",
   "execution_count": 30,
   "metadata": {},
   "outputs": [
    {
     "data": {
      "text/plain": [
       "(18, -38)"
      ]
     },
     "execution_count": 30,
     "metadata": {},
     "output_type": "execute_result"
    }
   ],
   "source": [
    "xy_out.x, xy_out.y"
   ]
  },
  {
   "cell_type": "markdown",
   "metadata": {},
   "source": [
    "Since Spinner goes from space1 to space1, it can be used as a step for a new Dynamics object"
   ]
  },
  {
   "cell_type": "code",
   "execution_count": 31,
   "metadata": {},
   "outputs": [],
   "source": [
    "dyn = Dynamics(space1, step=spinner.map)"
   ]
  },
  {
   "cell_type": "code",
   "execution_count": 32,
   "metadata": {},
   "outputs": [],
   "source": [
    "traj = Trajectory(xy_in)"
   ]
  },
  {
   "cell_type": "code",
   "execution_count": 33,
   "metadata": {},
   "outputs": [],
   "source": [
    "traj.set_dynamics(dyn)"
   ]
  },
  {
   "cell_type": "code",
   "execution_count": 34,
   "metadata": {},
   "outputs": [],
   "source": [
    "traj.apply_dynamics(100)"
   ]
  },
  {
   "cell_type": "code",
   "execution_count": 35,
   "metadata": {},
   "outputs": [
    {
     "data": {
      "text/plain": [
       "[<spaces.Point at 0x7fcd304ab430>,\n",
       " <spaces.Point at 0x7fcd304ab8e0>,\n",
       " <spaces.Point at 0x7fcd304ab400>,\n",
       " <spaces.Point at 0x7fcd304b5400>,\n",
       " <spaces.Point at 0x7fcd304b5730>,\n",
       " <spaces.Point at 0x7fcd304b52e0>,\n",
       " <spaces.Point at 0x7fcd304ab340>,\n",
       " <spaces.Point at 0x7fcd304b5c40>,\n",
       " <spaces.Point at 0x7fcd304b5f10>,\n",
       " <spaces.Point at 0x7fcd304b5c10>,\n",
       " <spaces.Point at 0x7fcd304b5610>,\n",
       " <spaces.Point at 0x7fcd304b5940>,\n",
       " <spaces.Point at 0x7fcd304abfa0>,\n",
       " <spaces.Point at 0x7fcd304b5eb0>,\n",
       " <spaces.Point at 0x7fcd304c3730>,\n",
       " <spaces.Point at 0x7fcd304c3910>,\n",
       " <spaces.Point at 0x7fcd304c3ac0>,\n",
       " <spaces.Point at 0x7fcd304c3c70>,\n",
       " <spaces.Point at 0x7fcd304c3e20>,\n",
       " <spaces.Point at 0x7fcd304c3700>,\n",
       " <spaces.Point at 0x7fcd304c3d00>,\n",
       " <spaces.Point at 0x7fcd304b5f70>,\n",
       " <spaces.Point at 0x7fcd304c3eb0>,\n",
       " <spaces.Point at 0x7fcd304da6a0>,\n",
       " <spaces.Point at 0x7fcd304da880>,\n",
       " <spaces.Point at 0x7fcd304daa30>,\n",
       " <spaces.Point at 0x7fcd304dabe0>,\n",
       " <spaces.Point at 0x7fcd304dad90>,\n",
       " <spaces.Point at 0x7fcd304da4c0>,\n",
       " <spaces.Point at 0x7fcd304daee0>,\n",
       " <spaces.Point at 0x7fcd304c3df0>,\n",
       " <spaces.Point at 0x7fcd304dae20>,\n",
       " <spaces.Point at 0x7fcd304db610>,\n",
       " <spaces.Point at 0x7fcd304db7f0>,\n",
       " <spaces.Point at 0x7fcd304db9a0>,\n",
       " <spaces.Point at 0x7fcd304dbb50>,\n",
       " <spaces.Point at 0x7fcd304dbd00>,\n",
       " <spaces.Point at 0x7fcd304dbe80>,\n",
       " <spaces.Point at 0x7fcd304db430>,\n",
       " <spaces.Point at 0x7fcd304dbf70>,\n",
       " <spaces.Point at 0x7fcd304daf10>,\n",
       " <spaces.Point at 0x7fcd304dbcd0>,\n",
       " <spaces.Point at 0x7fcd304dc730>,\n",
       " <spaces.Point at 0x7fcd304dc910>,\n",
       " <spaces.Point at 0x7fcd304dcac0>,\n",
       " <spaces.Point at 0x7fcd304dcc70>,\n",
       " <spaces.Point at 0x7fcd304dce20>,\n",
       " <spaces.Point at 0x7fcd304dc700>,\n",
       " <spaces.Point at 0x7fcd304dcd00>,\n",
       " <spaces.Point at 0x7fcd304dbd90>,\n",
       " <spaces.Point at 0x7fcd304dceb0>,\n",
       " <spaces.Point at 0x7fcd304de6a0>,\n",
       " <spaces.Point at 0x7fcd304de880>,\n",
       " <spaces.Point at 0x7fcd304dea30>,\n",
       " <spaces.Point at 0x7fcd304debe0>,\n",
       " <spaces.Point at 0x7fcd00218ac0>,\n",
       " <spaces.Point at 0x7fcd002359d0>,\n",
       " <spaces.Point at 0x7fccf0190fa0>,\n",
       " <spaces.Point at 0x7fcd304dee50>,\n",
       " <spaces.Point at 0x7fcd304dcdf0>,\n",
       " <spaces.Point at 0x7fcd304ded90>,\n",
       " <spaces.Point at 0x7fcd304df640>,\n",
       " <spaces.Point at 0x7fcd304df820>,\n",
       " <spaces.Point at 0x7fcd304df9d0>,\n",
       " <spaces.Point at 0x7fcd304dfb80>,\n",
       " <spaces.Point at 0x7fcd304dfd30>,\n",
       " <spaces.Point at 0x7fcd304dfdf0>,\n",
       " <spaces.Point at 0x7fcd304dfd00>,\n",
       " <spaces.Point at 0x7fcd304deee0>,\n",
       " <spaces.Point at 0x7fcd304dfdc0>,\n",
       " <spaces.Point at 0x7fcd304dfee0>,\n",
       " <spaces.Point at 0x7fcd304e0850>,\n",
       " <spaces.Point at 0x7fcd304e0a30>,\n",
       " <spaces.Point at 0x7fcd304e0be0>,\n",
       " <spaces.Point at 0x7fcd304e0d90>,\n",
       " <spaces.Point at 0x7fcd304e0820>,\n",
       " <spaces.Point at 0x7fcd304e0ee0>,\n",
       " <spaces.Point at 0x7fcd304dfe80>,\n",
       " <spaces.Point at 0x7fcd304e0e20>,\n",
       " <spaces.Point at 0x7fcd304e2610>,\n",
       " <spaces.Point at 0x7fcd304e27f0>,\n",
       " <spaces.Point at 0x7fcd304e29a0>,\n",
       " <spaces.Point at 0x7fcd304e2b50>,\n",
       " <spaces.Point at 0x7fcd304e2d00>,\n",
       " <spaces.Point at 0x7fcd304e2e80>,\n",
       " <spaces.Point at 0x7fcd304e2430>,\n",
       " <spaces.Point at 0x7fcd304e2f70>,\n",
       " <spaces.Point at 0x7fcd304e0f10>,\n",
       " <spaces.Point at 0x7fcd304e2cd0>,\n",
       " <spaces.Point at 0x7fcd304e3730>,\n",
       " <spaces.Point at 0x7fcd304e3910>,\n",
       " <spaces.Point at 0x7fcd304e3ac0>,\n",
       " <spaces.Point at 0x7fcd304e3c70>,\n",
       " <spaces.Point at 0x7fcd304e3e20>,\n",
       " <spaces.Point at 0x7fcd304e3700>,\n",
       " <spaces.Point at 0x7fcd304e3d00>,\n",
       " <spaces.Point at 0x7fcd304e2d90>,\n",
       " <spaces.Point at 0x7fcd304e3eb0>,\n",
       " <spaces.Point at 0x7fcd304e56a0>,\n",
       " <spaces.Point at 0x7fcd304e5880>,\n",
       " <spaces.Point at 0x7fcd304e5a30>]"
      ]
     },
     "execution_count": 35,
     "metadata": {},
     "output_type": "execute_result"
    }
   ],
   "source": [
    "traj.points"
   ]
  },
  {
   "cell_type": "code",
   "execution_count": 36,
   "metadata": {},
   "outputs": [],
   "source": [
    "t = range(traj.length)\n",
    "positions = [(p.x,p.y) for p in traj.points ]"
   ]
  },
  {
   "cell_type": "code",
   "execution_count": 37,
   "metadata": {},
   "outputs": [],
   "source": [
    "import matplotlib.pyplot as plt"
   ]
  },
  {
   "cell_type": "code",
   "execution_count": 38,
   "metadata": {},
   "outputs": [
    {
     "data": {
      "text/plain": [
       "<matplotlib.legend.Legend at 0x7fcd20b1b6d0>"
      ]
     },
     "execution_count": 38,
     "metadata": {},
     "output_type": "execute_result"
    },
    {
     "data": {
      "image/png": "[encoded data removed]",
      "text/plain": [
       "<Figure size 432x288 with 1 Axes>"
      ]
     },
     "metadata": {
      "needs_background": "light"
     },
     "output_type": "display_data"
    }
   ],
   "source": [
    "plt.plot(t,positions, t, positions)\n",
    "plt.xlabel(\"time\")\n",
    "plt.ylabel(\"position\")\n",
    "plt.legend([\"x\",\"y\"])"
   ]
  },
  {
   "cell_type": "markdown",
   "metadata": {},
   "source": [
    "The choice of space1 as integer based was intentional -- the effect of this is that the system is losing magnitude as a result of rounding errors!"
   ]
  },
  {
   "cell_type": "code",
   "execution_count": 39,
   "metadata": {},
   "outputs": [],
   "source": [
    "polar_coords = [cart2polar.map(p) for p in traj.points]"
   ]
  },
  {
   "cell_type": "code",
   "execution_count": 40,
   "metadata": {},
   "outputs": [],
   "source": [
    "magnitudes = [p.r for p in polar_coords ]\n",
    "angles = [p.theta for p in polar_coords ]"
   ]
  },
  {
   "cell_type": "code",
   "execution_count": 41,
   "metadata": {},
   "outputs": [
    {
     "data": {
      "text/plain": [
       "[<matplotlib.lines.Line2D at 0x7fccb073e9a0>]"
      ]
     },
     "execution_count": 41,
     "metadata": {},
     "output_type": "execute_result"
    },
    {
     "data": {
      "image/png": "[encoded data removed]",
      "text/plain": [
       "<Figure size 432x288 with 1 Axes>"
      ]
     },
     "metadata": {
      "needs_background": "light"
     },
     "output_type": "display_data"
    }
   ],
   "source": [
    "plt.plot(t, magnitudes)"
   ]
  },
  {
   "cell_type": "code",
   "execution_count": 42,
   "metadata": {},
   "outputs": [
    {
     "data": {
      "text/plain": [
       "[<matplotlib.lines.Line2D at 0x7fcd00285e50>]"
      ]
     },
     "execution_count": 42,
     "metadata": {},
     "output_type": "execute_result"
    },
    {
     "data": {
      "image/png": "[encoded data removed]",
      "text/plain": [
       "<Figure size 432x288 with 1 Axes>"
      ]
     },
     "metadata": {
      "needs_background": "light"
     },
     "output_type": "display_data"
    }
   ],
   "source": [
    "plt.plot(t, angles)"
   ]
  },
  {
   "cell_type": "code",
   "execution_count": 43,
   "metadata": {},
   "outputs": [
    {
     "data": {
      "text/plain": [
       "Text(0.5, 1.0, 'Scatter Plot')"
      ]
     },
     "execution_count": 43,
     "metadata": {},
     "output_type": "execute_result"
    },
    {
     "data": {
      "image/png": "[encoded data removed]",
      "text/plain": [
       "<Figure size 432x288 with 1 Axes>"
      ]
     },
     "metadata": {
      "needs_background": "light"
     },
     "output_type": "display_data"
    }
   ],
   "source": [
    "R = np.max(magnitudes)\n",
    "\n",
    "xc=[]\n",
    "yc=[]\n",
    "\n",
    "for theta in np.arange(0,2*np.pi,.01):\n",
    "    xc.append(R*np.cos(theta))\n",
    "    yc.append(R*np.sin(theta))\n",
    "\n",
    "pos = np.array(positions)\n",
    "\n",
    "plt.plot(xc,yc)\n",
    "plt.plot(pos.T[0], pos.T[1], '.')\n",
    "plt.xlabel(\"x\")\n",
    "plt.ylabel(\"y\")\n",
    "plt.title(\"Scatter Plot\")"
   ]
  },
  {
   "cell_type": "code",
   "execution_count": 44,
   "metadata": {},
   "outputs": [
    {
     "data": {
      "text/plain": [
       "Text(0.5, 1.0, 'Scatter Plot')"
      ]
     },
     "execution_count": 44,
     "metadata": {},
     "output_type": "execute_result"
    },
    {
     "data": {
      "image/png": "[encoded data removed]",
      "text/plain": [
       "<Figure size 432x288 with 1 Axes>"
      ]
     },
     "metadata": {
      "needs_background": "light"
     },
     "output_type": "display_data"
    }
   ],
   "source": [
    "R = np.max(magnitudes)\n",
    "\n",
    "xc=[]\n",
    "yc=[]\n",
    "\n",
    "for theta in np.arange(0,2*np.pi,.01):\n",
    "    xc.append(R*np.cos(theta))\n",
    "    yc.append(R*np.sin(theta))\n",
    "\n",
    "pos = np.array(positions)\n",
    "\n",
    "plt.plot(xc,yc)\n",
    "plt.plot(pos.T[0], pos.T[1], '.-')\n",
    "plt.xlabel(\"x\")\n",
    "plt.ylabel(\"y\")\n",
    "plt.title(\"Scatter Plot\")"
   ]
  },
  {
   "cell_type": "code",
   "execution_count": null,
   "metadata": {},
   "outputs": [],
   "source": []
  }
 ],
 "metadata": {
  "interpreter": {
   "hash": "7b1772db3cddc08457cc23b229bff4f5b14d39d24a324a3946d9a956e14623d6"
  },
  "kernelspec": {
   "display_name": "Python 3.8.5 64-bit ('base': conda)",
   "language": "python",
   "name": "python3"
  },
  "language_info": {
   "codemirror_mode": {
    "name": "ipython",
    "version": 3
   },
   "file_extension": ".py",
   "mimetype": "text/x-python",
   "name": "python",
   "nbconvert_exporter": "python",
   "pygments_lexer": "ipython3",
   "version": "3.8.5"
  },
  "orig_nbformat": 4
 },
 "nbformat": 4,
 "nbformat_minor": 2
}
