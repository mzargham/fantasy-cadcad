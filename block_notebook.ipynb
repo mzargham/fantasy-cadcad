{
 "cells": [
  {
   "cell_type": "code",
   "execution_count": 1,
   "metadata": {},
   "outputs": [],
   "source": [
    "from spaces import *"
   ]
  },
  {
   "cell_type": "code",
   "execution_count": 2,
   "metadata": {},
   "outputs": [],
   "source": [
    "import numpy as np"
   ]
  },
  {
   "cell_type": "code",
   "execution_count": 3,
   "metadata": {},
   "outputs": [],
   "source": [
    "space1 = Space(name = \"integer cartesian coordinates\")"
   ]
  },
  {
   "cell_type": "code",
   "execution_count": 4,
   "metadata": {},
   "outputs": [],
   "source": [
    "space1.append_dimension(\"x\", int)\n",
    "space1.append_dimension(\"y\", int)"
   ]
  },
  {
   "cell_type": "code",
   "execution_count": 5,
   "metadata": {},
   "outputs": [],
   "source": [
    "space2 = Space(name = \"floating point polar coordinates\")"
   ]
  },
  {
   "cell_type": "code",
   "execution_count": 6,
   "metadata": {},
   "outputs": [],
   "source": [
    "space2.append_dimension(\"r\", float)\n",
    "space2.append_dimension(\"theta\", float)"
   ]
  },
  {
   "cell_type": "code",
   "execution_count": 7,
   "metadata": {},
   "outputs": [],
   "source": [
    "def to_polar(point):\n",
    "    x = point.x\n",
    "    y = point.y\n",
    "\n",
    "    r = np.sqrt(x**2+y**2)\n",
    "    if x==0:\n",
    "        theta = np.sign(y)*np.pi/2\n",
    "    else:\n",
    "        theta = np.arctan(y/x)\n",
    "\n",
    "    return space2.point({'r':r,'theta':theta})\n",
    "\n",
    "def to_cart(point):\n",
    "    r = point.r\n",
    "    theta = point.theta\n",
    "\n",
    "    x = int(r*np.cos(theta))\n",
    "    y = int(r*np.sin(theta))\n",
    "\n",
    "    return space1.point({'x':x,'y':y})"
   ]
  },
  {
   "cell_type": "code",
   "execution_count": 8,
   "metadata": {},
   "outputs": [],
   "source": [
    "cart2polar = Block(space1,space2, to_polar)\n",
    "polar2cart = Block(space2,space1, to_cart)"
   ]
  },
  {
   "cell_type": "code",
   "execution_count": 9,
   "metadata": {},
   "outputs": [
    {
     "data": {
      "text/plain": [
       "'integer cartesian coordinates'"
      ]
     },
     "execution_count": 9,
     "metadata": {},
     "output_type": "execute_result"
    }
   ],
   "source": [
    "cart2polar.domain.name"
   ]
  },
  {
   "cell_type": "code",
   "execution_count": 10,
   "metadata": {},
   "outputs": [
    {
     "data": {
      "text/plain": [
       "'floating point polar coordinates'"
      ]
     },
     "execution_count": 10,
     "metadata": {},
     "output_type": "execute_result"
    }
   ],
   "source": [
    "cart2polar.codomain.name"
   ]
  },
  {
   "cell_type": "code",
   "execution_count": 11,
   "metadata": {},
   "outputs": [],
   "source": [
    "input = space1.point({'x':25,'y':33})"
   ]
  },
  {
   "cell_type": "code",
   "execution_count": 12,
   "metadata": {},
   "outputs": [
    {
     "data": {
      "text/plain": [
       "(0.922464337707636, 41.400483088968905)"
      ]
     },
     "execution_count": 12,
     "metadata": {},
     "output_type": "execute_result"
    }
   ],
   "source": [
    "interim = cart2polar.map(input)\n",
    "interim.theta, interim.r"
   ]
  },
  {
   "cell_type": "code",
   "execution_count": 13,
   "metadata": {},
   "outputs": [
    {
     "data": {
      "text/plain": [
       "(25, 33)"
      ]
     },
     "execution_count": 13,
     "metadata": {},
     "output_type": "execute_result"
    }
   ],
   "source": [
    "output = polar2cart.map(interim)\n",
    "output.x, output.y"
   ]
  },
  {
   "cell_type": "code",
   "execution_count": 14,
   "metadata": {},
   "outputs": [],
   "source": [
    "polar2polar = cart2polar.compose(polar2cart)\n",
    "cart2cart = polar2cart.compose(cart2polar)"
   ]
  },
  {
   "cell_type": "code",
   "execution_count": 15,
   "metadata": {},
   "outputs": [
    {
     "data": {
      "text/plain": [
       "'integer cartesian coordinates'"
      ]
     },
     "execution_count": 15,
     "metadata": {},
     "output_type": "execute_result"
    }
   ],
   "source": [
    "cart2cart.domain.name"
   ]
  },
  {
   "cell_type": "code",
   "execution_count": 16,
   "metadata": {},
   "outputs": [
    {
     "data": {
      "text/plain": [
       "'integer cartesian coordinates'"
      ]
     },
     "execution_count": 16,
     "metadata": {},
     "output_type": "execute_result"
    }
   ],
   "source": [
    "cart2cart.codomain.name"
   ]
  },
  {
   "cell_type": "code",
   "execution_count": 17,
   "metadata": {},
   "outputs": [
    {
     "data": {
      "text/plain": [
       "\"made by composition; collapsed space is called 'floating point polar coordinates'\""
      ]
     },
     "execution_count": 17,
     "metadata": {},
     "output_type": "execute_result"
    }
   ],
   "source": [
    "cart2cart.description"
   ]
  },
  {
   "cell_type": "code",
   "execution_count": 18,
   "metadata": {},
   "outputs": [
    {
     "data": {
      "text/plain": [
       "(25, 33)"
      ]
     },
     "execution_count": 18,
     "metadata": {},
     "output_type": "execute_result"
    }
   ],
   "source": [
    "direct = cart2cart.map(input)\n",
    "direct.x, direct.y"
   ]
  },
  {
   "cell_type": "code",
   "execution_count": 19,
   "metadata": {},
   "outputs": [],
   "source": [
    "def random_spin(point):\n",
    "    p = point.copy()\n",
    "    delta = np.random.rand()*np.pi/2-np.pi/4\n",
    "    p.theta +=delta\n",
    "    return p"
   ]
  },
  {
   "cell_type": "code",
   "execution_count": 20,
   "metadata": {},
   "outputs": [],
   "source": [
    "spin = Block(space2, space2, random_spin)"
   ]
  },
  {
   "cell_type": "code",
   "execution_count": 21,
   "metadata": {},
   "outputs": [],
   "source": [
    "blocks = [cart2polar, spin, polar2cart]"
   ]
  },
  {
   "cell_type": "code",
   "execution_count": 22,
   "metadata": {},
   "outputs": [
    {
     "name": "stdout",
     "output_type": "stream",
     "text": [
      "<spaces.Space object at 0x7f95e01d8cd0>\n",
      "to\n",
      "<spaces.Space object at 0x7f95e02175e0>\n",
      "<spaces.Space object at 0x7f95e02175e0>\n",
      "to\n",
      "<spaces.Space object at 0x7f95e02175e0>\n",
      "<spaces.Space object at 0x7f95e02175e0>\n",
      "to\n",
      "<spaces.Space object at 0x7f95e01d8cd0>\n"
     ]
    }
   ],
   "source": [
    "for b in blocks:\n",
    "    print(b.domain)\n",
    "    print('to')\n",
    "    print(b.codomain)"
   ]
  },
  {
   "cell_type": "code",
   "execution_count": 23,
   "metadata": {},
   "outputs": [
    {
     "data": {
      "text/plain": [
       "[<spaces.Block at 0x7f95e0217520>,\n",
       " <spaces.Block at 0x7f9621138850>,\n",
       " <spaces.Block at 0x7f95e02178b0>]"
      ]
     },
     "execution_count": 23,
     "metadata": {},
     "output_type": "execute_result"
    }
   ],
   "source": [
    "blocks"
   ]
  },
  {
   "cell_type": "code",
   "execution_count": 24,
   "metadata": {},
   "outputs": [],
   "source": [
    "spinner = chain(blocks)"
   ]
  },
  {
   "cell_type": "code",
   "execution_count": 25,
   "metadata": {},
   "outputs": [
    {
     "data": {
      "text/plain": [
       "'integer cartesian coordinates'"
      ]
     },
     "execution_count": 25,
     "metadata": {},
     "output_type": "execute_result"
    }
   ],
   "source": [
    "spinner.codomain.name"
   ]
  },
  {
   "cell_type": "code",
   "execution_count": 26,
   "metadata": {},
   "outputs": [
    {
     "data": {
      "text/plain": [
       "'integer cartesian coordinates'"
      ]
     },
     "execution_count": 26,
     "metadata": {},
     "output_type": "execute_result"
    }
   ],
   "source": [
    "spinner.domain.name"
   ]
  },
  {
   "cell_type": "code",
   "execution_count": 27,
   "metadata": {},
   "outputs": [
    {
     "data": {
      "text/plain": [
       "'chain compose of [<spaces.Block object at 0x7f95e0217520>, <spaces.Block object at 0x7f9621138850>, <spaces.Block object at 0x7f95e02178b0>]'"
      ]
     },
     "execution_count": 27,
     "metadata": {},
     "output_type": "execute_result"
    }
   ],
   "source": [
    "spinner.description"
   ]
  },
  {
   "cell_type": "code",
   "execution_count": 28,
   "metadata": {},
   "outputs": [],
   "source": [
    "xy_in = space1.point({'x':30,'y':-30})"
   ]
  },
  {
   "cell_type": "code",
   "execution_count": 29,
   "metadata": {},
   "outputs": [],
   "source": [
    "xy_out = spinner.map(xy_in)"
   ]
  },
  {
   "cell_type": "code",
   "execution_count": 30,
   "metadata": {},
   "outputs": [
    {
     "data": {
      "text/plain": [
       "(38, -18)"
      ]
     },
     "execution_count": 30,
     "metadata": {},
     "output_type": "execute_result"
    }
   ],
   "source": [
    "xy_out.x, xy_out.y"
   ]
  },
  {
   "cell_type": "markdown",
   "metadata": {},
   "source": [
    "Since Spinner goes from space1 to space1, it can be used as a step for a new Dynamics object"
   ]
  },
  {
   "cell_type": "code",
   "execution_count": 31,
   "metadata": {},
   "outputs": [],
   "source": [
    "dyn = Dynamics(space1, step=spinner.map)"
   ]
  },
  {
   "cell_type": "code",
   "execution_count": 32,
   "metadata": {},
   "outputs": [],
   "source": [
    "traj = Trajectory(xy_in)"
   ]
  },
  {
   "cell_type": "code",
   "execution_count": 33,
   "metadata": {},
   "outputs": [],
   "source": [
    "traj.set_dynamics(dyn)"
   ]
  },
  {
   "cell_type": "code",
   "execution_count": 34,
   "metadata": {},
   "outputs": [],
   "source": [
    "traj.apply_dynamics(100)"
   ]
  },
  {
   "cell_type": "code",
   "execution_count": 35,
   "metadata": {},
   "outputs": [
    {
     "data": {
      "text/plain": [
       "[<spaces.Point at 0x7f9621138460>,\n",
       " <spaces.Point at 0x7f9621138be0>,\n",
       " <spaces.Point at 0x7f9621138820>,\n",
       " <spaces.Point at 0x7f9621138a60>,\n",
       " <spaces.Point at 0x7f9621138c10>,\n",
       " <spaces.Point at 0x7f95e01f5160>,\n",
       " <spaces.Point at 0x7f9621138e50>,\n",
       " <spaces.Point at 0x7f95e01f5910>,\n",
       " <spaces.Point at 0x7f95e02172e0>,\n",
       " <spaces.Point at 0x7f962111da90>,\n",
       " <spaces.Point at 0x7f95f0175940>,\n",
       " <spaces.Point at 0x7f95f0175b20>,\n",
       " <spaces.Point at 0x7f95f0175cd0>,\n",
       " <spaces.Point at 0x7f95f0175e80>,\n",
       " <spaces.Point at 0x7f95f0175d90>,\n",
       " <spaces.Point at 0x7f95f0175910>,\n",
       " <spaces.Point at 0x7f95e0217910>,\n",
       " <spaces.Point at 0x7f95f0175760>,\n",
       " <spaces.Point at 0x7f95f0174700>,\n",
       " <spaces.Point at 0x7f95f01748e0>,\n",
       " <spaces.Point at 0x7f95f0174a90>,\n",
       " <spaces.Point at 0x7f95f0174c40>,\n",
       " <spaces.Point at 0x7f95f0174df0>,\n",
       " <spaces.Point at 0x7f95f01746d0>,\n",
       " <spaces.Point at 0x7f95f0174cd0>,\n",
       " <spaces.Point at 0x7f95f0175d60>,\n",
       " <spaces.Point at 0x7f95f0174e80>,\n",
       " <spaces.Point at 0x7f95f0176670>,\n",
       " <spaces.Point at 0x7f95f0176850>,\n",
       " <spaces.Point at 0x7f95f0176a00>,\n",
       " <spaces.Point at 0x7f95f0176bb0>,\n",
       " <spaces.Point at 0x7f95f0176d60>,\n",
       " <spaces.Point at 0x7f95f0176e20>,\n",
       " <spaces.Point at 0x7f95f0176d30>,\n",
       " <spaces.Point at 0x7f95f0174dc0>,\n",
       " <spaces.Point at 0x7f95f0176df0>,\n",
       " <spaces.Point at 0x7f95f0176f10>,\n",
       " <spaces.Point at 0x7f95f0177790>,\n",
       " <spaces.Point at 0x7f95f0177970>,\n",
       " <spaces.Point at 0x7f95f0177b20>,\n",
       " <spaces.Point at 0x7f95f0177cd0>,\n",
       " <spaces.Point at 0x7f95f0177e80>,\n",
       " <spaces.Point at 0x7f95f0177d90>,\n",
       " <spaces.Point at 0x7f95f01775b0>,\n",
       " <spaces.Point at 0x7f95f0176eb0>,\n",
       " <spaces.Point at 0x7f95f0177760>,\n",
       " <spaces.Point at 0x7f95f0178700>,\n",
       " <spaces.Point at 0x7f95f01788e0>,\n",
       " <spaces.Point at 0x7f95f0178a90>,\n",
       " <spaces.Point at 0x7f95f0178c40>,\n",
       " <spaces.Point at 0x7f95f0178df0>,\n",
       " <spaces.Point at 0x7f95f01786d0>,\n",
       " <spaces.Point at 0x7f95f0178cd0>,\n",
       " <spaces.Point at 0x7f95f0177d60>,\n",
       " <spaces.Point at 0x7f95f0178e80>,\n",
       " <spaces.Point at 0x7f95f017a670>,\n",
       " <spaces.Point at 0x7f95f017a850>,\n",
       " <spaces.Point at 0x7f95f017aa00>,\n",
       " <spaces.Point at 0x7f95f017abb0>,\n",
       " <spaces.Point at 0x7f95f017ad60>,\n",
       " <spaces.Point at 0x7f95f017ae20>,\n",
       " <spaces.Point at 0x7f95f017ad30>,\n",
       " <spaces.Point at 0x7f95f0178dc0>,\n",
       " <spaces.Point at 0x7f95f017adf0>,\n",
       " <spaces.Point at 0x7f95f017af10>,\n",
       " <spaces.Point at 0x7f95f017c790>,\n",
       " <spaces.Point at 0x7f95f017c970>,\n",
       " <spaces.Point at 0x7f95f017cb20>,\n",
       " <spaces.Point at 0x7f95f017ccd0>,\n",
       " <spaces.Point at 0x7f95f017ce80>,\n",
       " <spaces.Point at 0x7f95f017cd90>,\n",
       " <spaces.Point at 0x7f95f017c5b0>,\n",
       " <spaces.Point at 0x7f95f017aeb0>,\n",
       " <spaces.Point at 0x7f95f017c760>,\n",
       " <spaces.Point at 0x7f95f017d700>,\n",
       " <spaces.Point at 0x7f95f017d8e0>,\n",
       " <spaces.Point at 0x7f95f017da90>,\n",
       " <spaces.Point at 0x7f95f017dc40>,\n",
       " <spaces.Point at 0x7f95f017ddf0>,\n",
       " <spaces.Point at 0x7f95f017d6d0>,\n",
       " <spaces.Point at 0x7f95f017dcd0>,\n",
       " <spaces.Point at 0x7f95f017cd60>,\n",
       " <spaces.Point at 0x7f95f017de80>,\n",
       " <spaces.Point at 0x7f95f017b670>,\n",
       " <spaces.Point at 0x7f95f017b850>,\n",
       " <spaces.Point at 0x7f95f017bb80>,\n",
       " <spaces.Point at 0x7f95f017bca0>,\n",
       " <spaces.Point at 0x7f95f017be50>,\n",
       " <spaces.Point at 0x7f95f017b910>,\n",
       " <spaces.Point at 0x7f95f017bee0>,\n",
       " <spaces.Point at 0x7f95f017bf70>,\n",
       " <spaces.Point at 0x7f95f017b9d0>,\n",
       " <spaces.Point at 0x7f95f01806d0>,\n",
       " <spaces.Point at 0x7f95f01808b0>,\n",
       " <spaces.Point at 0x7f95f0180a60>,\n",
       " <spaces.Point at 0x7f95f0180c10>,\n",
       " <spaces.Point at 0x7f95f0180dc0>,\n",
       " <spaces.Point at 0x7f95f0180cd0>,\n",
       " <spaces.Point at 0x7f95f0180af0>,\n",
       " <spaces.Point at 0x7f95f017bc10>,\n",
       " <spaces.Point at 0x7f95f0180e50>]"
      ]
     },
     "execution_count": 35,
     "metadata": {},
     "output_type": "execute_result"
    }
   ],
   "source": [
    "traj.points"
   ]
  },
  {
   "cell_type": "code",
   "execution_count": 36,
   "metadata": {},
   "outputs": [],
   "source": [
    "t = range(traj.length)\n",
    "positions = [(p.x,p.y) for p in traj.points ]"
   ]
  },
  {
   "cell_type": "code",
   "execution_count": 37,
   "metadata": {},
   "outputs": [],
   "source": [
    "import matplotlib.pyplot as plt"
   ]
  },
  {
   "cell_type": "code",
   "execution_count": 38,
   "metadata": {},
   "outputs": [
    {
     "data": {
      "text/plain": [
       "<matplotlib.legend.Legend at 0x7f9621138640>"
      ]
     },
     "execution_count": 38,
     "metadata": {},
     "output_type": "execute_result"
    },
    {
     "data": {
      "image/png": "[encoded data removed]",
      "text/plain": [
       "<Figure size 432x288 with 1 Axes>"
      ]
     },
     "metadata": {
      "needs_background": "light"
     },
     "output_type": "display_data"
    }
   ],
   "source": [
    "plt.plot(t,positions, t, positions)\n",
    "plt.xlabel(\"time\")\n",
    "plt.ylabel(\"position\")\n",
    "plt.legend([\"x\",\"y\"])"
   ]
  },
  {
   "cell_type": "markdown",
   "metadata": {},
   "source": [
    "The choice of space1 as integer based was intentional -- the effect of this is that the system is losing magnitude as a result of rounding errors!"
   ]
  },
  {
   "cell_type": "code",
   "execution_count": 39,
   "metadata": {},
   "outputs": [],
   "source": [
    "polar_coords = [cart2polar.map(p) for p in traj.points]"
   ]
  },
  {
   "cell_type": "code",
   "execution_count": 40,
   "metadata": {},
   "outputs": [],
   "source": [
    "magnitudes = [p.r for p in polar_coords ]\n",
    "angles = [p.theta for p in polar_coords ]"
   ]
  },
  {
   "cell_type": "code",
   "execution_count": 41,
   "metadata": {},
   "outputs": [
    {
     "data": {
      "text/plain": [
       "[<matplotlib.lines.Line2D at 0x7f95a00ecac0>]"
      ]
     },
     "execution_count": 41,
     "metadata": {},
     "output_type": "execute_result"
    },
    {
     "data": {
      "image/png": "[encoded data removed]",
      "text/plain": [
       "<Figure size 432x288 with 1 Axes>"
      ]
     },
     "metadata": {
      "needs_background": "light"
     },
     "output_type": "display_data"
    }
   ],
   "source": [
    "plt.plot(t, magnitudes)"
   ]
  },
  {
   "cell_type": "code",
   "execution_count": 42,
   "metadata": {},
   "outputs": [
    {
     "data": {
      "text/plain": [
       "[<matplotlib.lines.Line2D at 0x7f95f06ca070>]"
      ]
     },
     "execution_count": 42,
     "metadata": {},
     "output_type": "execute_result"
    },
    {
     "data": {
      "image/png": "[encoded data removed]",
      "text/plain": [
       "<Figure size 432x288 with 1 Axes>"
      ]
     },
     "metadata": {
      "needs_background": "light"
     },
     "output_type": "display_data"
    }
   ],
   "source": [
    "plt.plot(t, angles)"
   ]
  },
  {
   "cell_type": "code",
   "execution_count": 44,
   "metadata": {},
   "outputs": [
    {
     "data": {
      "text/plain": [
       "Text(0.5, 1.0, 'Scatter Plot')"
      ]
     },
     "execution_count": 44,
     "metadata": {},
     "output_type": "execute_result"
    },
    {
     "data": {
      "image/png": "[encoded data removed]",
      "text/plain": [
       "<Figure size 432x288 with 1 Axes>"
      ]
     },
     "metadata": {
      "needs_background": "light"
     },
     "output_type": "display_data"
    }
   ],
   "source": [
    "R = np.max(magnitudes)\n",
    "\n",
    "xc=[]\n",
    "yc=[]\n",
    "\n",
    "for theta in np.arange(0,2*np.pi,.01):\n",
    "    xc.append(R*np.cos(theta))\n",
    "    yc.append(R*np.sin(theta))\n",
    "\n",
    "pos = np.array(positions)\n",
    "\n",
    "plt.plot(xc,yc)\n",
    "plt.plot(pos.T[0], pos.T[1], '.')\n",
    "plt.xlabel(\"x\")\n",
    "plt.ylabel(\"y\")\n",
    "plt.title(\"Scatter Plot\")"
   ]
  },
  {
   "cell_type": "code",
   "execution_count": 50,
   "metadata": {},
   "outputs": [
    {
     "data": {
      "text/plain": [
       "Text(0.5, 1.0, 'Scatter Plot')"
      ]
     },
     "execution_count": 50,
     "metadata": {},
     "output_type": "execute_result"
    },
    {
     "data": {
      "image/png": "[encoded data removed]",
      "text/plain": [
       "<Figure size 432x288 with 1 Axes>"
      ]
     },
     "metadata": {
      "needs_background": "light"
     },
     "output_type": "display_data"
    }
   ],
   "source": [
    "R = np.max(magnitudes)\n",
    "\n",
    "xc=[]\n",
    "yc=[]\n",
    "\n",
    "for theta in np.arange(0,2*np.pi,.01):\n",
    "    xc.append(R*np.cos(theta))\n",
    "    yc.append(R*np.sin(theta))\n",
    "\n",
    "pos = np.array(positions)\n",
    "\n",
    "plt.plot(xc,yc)\n",
    "plt.plot(pos.T[0], pos.T[1], '.-')\n",
    "plt.xlabel(\"x\")\n",
    "plt.ylabel(\"y\")\n",
    "plt.title(\"Scatter Plot\")"
   ]
  },
  {
   "cell_type": "code",
   "execution_count": null,
   "metadata": {},
   "outputs": [],
   "source": []
  }
 ],
 "metadata": {
  "interpreter": {
   "hash": "7b1772db3cddc08457cc23b229bff4f5b14d39d24a324a3946d9a956e14623d6"
  },
  "kernelspec": {
   "display_name": "Python 3.8.5 64-bit ('base': conda)",
   "language": "python",
   "name": "python3"
  },
  "language_info": {
   "codemirror_mode": {
    "name": "ipython",
    "version": 3
   },
   "file_extension": ".py",
   "mimetype": "text/x-python",
   "name": "python",
   "nbconvert_exporter": "python",
   "pygments_lexer": "ipython3",
   "version": "3.8.5"
  },
  "orig_nbformat": 4
 },
 "nbformat": 4,
 "nbformat_minor": 2
}
